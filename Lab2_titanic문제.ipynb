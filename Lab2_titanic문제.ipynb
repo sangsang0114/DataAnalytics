{
 "cells": [
  {
   "cell_type": "code",
   "execution_count": 55,
   "id": "ec3e37d7",
   "metadata": {},
   "outputs": [],
   "source": [
    "import pandas as pd \n",
    "import matplotlib.pyplot as plt\n",
    "%matplotlib inline\n",
    "\n",
    "# titanic.csv 를 데이터프레임으로 read  , encoding = \"euc-kr\" \n",
    "titanic = pd.read_csv(\"titanic.csv\", encoding = \"euc-kr\") "
   ]
  },
  {
   "cell_type": "code",
   "execution_count": 56,
   "id": "2035cfcb",
   "metadata": {},
   "outputs": [
    {
     "data": {
      "text/html": [
       "<div>\n",
       "<style scoped>\n",
       "    .dataframe tbody tr th:only-of-type {\n",
       "        vertical-align: middle;\n",
       "    }\n",
       "\n",
       "    .dataframe tbody tr th {\n",
       "        vertical-align: top;\n",
       "    }\n",
       "\n",
       "    .dataframe thead th {\n",
       "        text-align: right;\n",
       "    }\n",
       "</style>\n",
       "<table border=\"1\" class=\"dataframe\">\n",
       "  <thead>\n",
       "    <tr style=\"text-align: right;\">\n",
       "      <th></th>\n",
       "      <th>PassengerId</th>\n",
       "      <th>생존여부</th>\n",
       "      <th>객실등급</th>\n",
       "      <th>이름</th>\n",
       "      <th>성별</th>\n",
       "      <th>나이</th>\n",
       "      <th>SibSp</th>\n",
       "      <th>Parch</th>\n",
       "      <th>Ticket</th>\n",
       "      <th>Fare</th>\n",
       "      <th>Cabin</th>\n",
       "      <th>Embarked</th>\n",
       "    </tr>\n",
       "  </thead>\n",
       "  <tbody>\n",
       "    <tr>\n",
       "      <th>0</th>\n",
       "      <td>1</td>\n",
       "      <td>0</td>\n",
       "      <td>3</td>\n",
       "      <td>Braund, Mr. Owen Harris</td>\n",
       "      <td>male</td>\n",
       "      <td>22.0</td>\n",
       "      <td>1</td>\n",
       "      <td>0</td>\n",
       "      <td>A/5 21171</td>\n",
       "      <td>7.2500</td>\n",
       "      <td>NaN</td>\n",
       "      <td>S</td>\n",
       "    </tr>\n",
       "    <tr>\n",
       "      <th>1</th>\n",
       "      <td>2</td>\n",
       "      <td>1</td>\n",
       "      <td>1</td>\n",
       "      <td>Cumings, Mrs. John Bradley (Florence Briggs Th...</td>\n",
       "      <td>female</td>\n",
       "      <td>38.0</td>\n",
       "      <td>1</td>\n",
       "      <td>0</td>\n",
       "      <td>PC 17599</td>\n",
       "      <td>71.2833</td>\n",
       "      <td>C85</td>\n",
       "      <td>C</td>\n",
       "    </tr>\n",
       "    <tr>\n",
       "      <th>2</th>\n",
       "      <td>3</td>\n",
       "      <td>1</td>\n",
       "      <td>3</td>\n",
       "      <td>Heikkinen, Miss. Laina</td>\n",
       "      <td>female</td>\n",
       "      <td>26.0</td>\n",
       "      <td>0</td>\n",
       "      <td>0</td>\n",
       "      <td>STON/O2. 3101282</td>\n",
       "      <td>7.9250</td>\n",
       "      <td>NaN</td>\n",
       "      <td>S</td>\n",
       "    </tr>\n",
       "    <tr>\n",
       "      <th>3</th>\n",
       "      <td>4</td>\n",
       "      <td>1</td>\n",
       "      <td>1</td>\n",
       "      <td>Futrelle, Mrs. Jacques Heath (Lily May Peel)</td>\n",
       "      <td>female</td>\n",
       "      <td>35.0</td>\n",
       "      <td>1</td>\n",
       "      <td>0</td>\n",
       "      <td>113803</td>\n",
       "      <td>53.1000</td>\n",
       "      <td>C123</td>\n",
       "      <td>S</td>\n",
       "    </tr>\n",
       "    <tr>\n",
       "      <th>4</th>\n",
       "      <td>5</td>\n",
       "      <td>0</td>\n",
       "      <td>3</td>\n",
       "      <td>Allen, Mr. William Henry</td>\n",
       "      <td>male</td>\n",
       "      <td>35.0</td>\n",
       "      <td>0</td>\n",
       "      <td>0</td>\n",
       "      <td>373450</td>\n",
       "      <td>8.0500</td>\n",
       "      <td>NaN</td>\n",
       "      <td>S</td>\n",
       "    </tr>\n",
       "  </tbody>\n",
       "</table>\n",
       "</div>"
      ],
      "text/plain": [
       "   PassengerId  생존여부  객실등급                                                 이름  \\\n",
       "0            1     0     3                            Braund, Mr. Owen Harris   \n",
       "1            2     1     1  Cumings, Mrs. John Bradley (Florence Briggs Th...   \n",
       "2            3     1     3                             Heikkinen, Miss. Laina   \n",
       "3            4     1     1       Futrelle, Mrs. Jacques Heath (Lily May Peel)   \n",
       "4            5     0     3                           Allen, Mr. William Henry   \n",
       "\n",
       "       성별    나이  SibSp  Parch            Ticket     Fare Cabin Embarked  \n",
       "0    male  22.0      1      0         A/5 21171   7.2500   NaN        S  \n",
       "1  female  38.0      1      0          PC 17599  71.2833   C85        C  \n",
       "2  female  26.0      0      0  STON/O2. 3101282   7.9250   NaN        S  \n",
       "3  female  35.0      1      0            113803  53.1000  C123        S  \n",
       "4    male  35.0      0      0            373450   8.0500   NaN        S  "
      ]
     },
     "execution_count": 56,
     "metadata": {},
     "output_type": "execute_result"
    }
   ],
   "source": [
    "titanic.head()"
   ]
  },
  {
   "cell_type": "code",
   "execution_count": 57,
   "id": "5c5e8902",
   "metadata": {},
   "outputs": [
    {
     "name": "stdout",
     "output_type": "stream",
     "text": [
      "PassengerId      0\n",
      "생존여부             0\n",
      "객실등급             0\n",
      "이름               0\n",
      "성별               0\n",
      "나이             177\n",
      "SibSp            0\n",
      "Parch            0\n",
      "Ticket           0\n",
      "Fare             0\n",
      "Cabin          687\n",
      "Embarked         2\n",
      "dtype: int64\n"
     ]
    }
   ],
   "source": [
    "print(titanic.isna().sum())\n",
    "titanic.dropna(\n",
    "    axis = 0,\n",
    "    how= 'any',\n",
    "    inplace = True,\n",
    "    subset=['나이','Embarked']\n",
    ")"
   ]
  },
  {
   "cell_type": "markdown",
   "id": "addece84",
   "metadata": {},
   "source": [
    "### 비교 시각화 "
   ]
  },
  {
   "cell_type": "markdown",
   "id": "35e8351a",
   "metadata": {},
   "source": [
    "#### 1 여성 생존비율, 남성 생존 비율 비교 시각화 "
   ]
  },
  {
   "cell_type": "code",
   "execution_count": 62,
   "id": "ba5c40d3",
   "metadata": {},
   "outputs": [
    {
     "data": {
      "text/plain": [
       "Text(0.5, 1.0, 'alive')"
      ]
     },
     "execution_count": 62,
     "metadata": {},
     "output_type": "execute_result"
    },
    {
     "data": {
      "image/png": "[encoded data removed]",
      "text/plain": [
       "<Figure size 640x480 with 1 Axes>"
      ]
     },
     "metadata": {},
     "output_type": "display_data"
    }
   ],
   "source": [
    "alive = titanic.loc[titanic['생존여부'] == 1, ('PassengerId')].groupby(titanic['성별'])\n",
    "plt.pie(alive.size(), labels = alive.indices.keys(), autopct='%.1f%%')\n",
    "plt.title('alive')"
   ]
  },
  {
   "cell_type": "code",
   "execution_count": null,
   "id": "8d7b8efe",
   "metadata": {},
   "outputs": [],
   "source": []
  },
  {
   "cell_type": "code",
   "execution_count": null,
   "id": "f6d5e882",
   "metadata": {},
   "outputs": [],
   "source": []
  },
  {
   "cell_type": "markdown",
   "id": "34321cd3",
   "metadata": {},
   "source": [
    "#### 2 객실 등급별  생존비율 비교 시각화 "
   ]
  },
  {
   "cell_type": "code",
   "execution_count": 51,
   "id": "dbfd1b07",
   "metadata": {},
   "outputs": [
    {
     "data": {
      "image/png": "[encoded data removed]",
      "text/plain": [
       "<Figure size 640x480 with 1 Axes>"
      ]
     },
     "metadata": {},
     "output_type": "display_data"
    }
   ],
   "source": [
    "alive = titanic.loc[titanic['생존여부'] == 1, ('PassengerId')].groupby(titanic['객실등급'])\n",
    "plt.pie(alive.size(), labels = alive.indices.keys(), autopct='%.1f%%')\n",
    "plt.title('alive')\n",
    "plt.show()"
   ]
  },
  {
   "cell_type": "markdown",
   "id": "2b59a21c",
   "metadata": {},
   "source": [
    "#### 3 승선항구(Embarked ) 별 생존비율 비교 시각화 "
   ]
  },
  {
   "cell_type": "code",
   "execution_count": 52,
   "id": "8c4a6743",
   "metadata": {},
   "outputs": [
    {
     "data": {
      "image/png": "[encoded data removed]",
      "text/plain": [
       "<Figure size 640x480 with 1 Axes>"
      ]
     },
     "metadata": {},
     "output_type": "display_data"
    }
   ],
   "source": [
    "alive = titanic.loc[titanic['생존여부'] == 1, ('PassengerId')].groupby(titanic['Embarked'])\n",
    "plt.pie(alive.size(), labels = alive.indices.keys(), autopct='%.1f%%')\n",
    "plt.title('alive')\n",
    "plt.show()"
   ]
  },
  {
   "cell_type": "markdown",
   "id": "24f62cac",
   "metadata": {},
   "source": [
    "#### 4.  생존한 승객과 그렇지 않은 승객의 연령이 통계학적으로 차이가 난다고 할 수 있는지 95%  신뢰수준으로t 검정하세요. \n",
    "\n",
    "#### 대립가설은 무엇이고, 채택인가 기각인가? \n",
    "#### 귀무가설은 무엇이고, 채택인가 기각인가? "
   ]
  },
  {
   "cell_type": "code",
   "execution_count": 53,
   "id": "60151cb7",
   "metadata": {},
   "outputs": [
    {
     "data": {
      "text/plain": [
       "TtestResult(statistic=-2.2043427748445956, pvalue=0.027820316250851285, df=710.0)"
      ]
     },
     "execution_count": 53,
     "metadata": {},
     "output_type": "execute_result"
    }
   ],
   "source": [
    "'''\n",
    "귀무가설: 생존한 승객과 사망한 승객의 연령이 통계학적으로 차이가 난다고 볼 수 없다.\n",
    "대립가설: 생존한 승객과 사망한 승객의 연령이 통계학적으로 차이가 난다고 볼 수 있다.\n",
    "'''\n",
    "from scipy import stats\n",
    "alive = titanic.loc[titanic['생존여부'] == 1, ('나이')]\n",
    "dead = titanic.loc[titanic['생존여부'] == 0, ('나이')]\n",
    "\n",
    "tTestResult = stats.ttest_ind(alive, dead)\n",
    "tTestResult"
   ]
  },
  {
   "cell_type": "code",
   "execution_count": 54,
   "id": "53e86764",
   "metadata": {},
   "outputs": [
    {
     "data": {
      "text/plain": [
       "'따라서 귀무가설은 채택, 대립 가설은 기각. 생존 여부와 나이는 통계학적으로 유의미하다고 볼 수 있다.'"
      ]
     },
     "execution_count": 54,
     "metadata": {},
     "output_type": "execute_result"
    }
   ],
   "source": [
    "'''따라서 귀무가설은 채택, 대립 가설은 기각. 생존 여부와 나이는 통계학적으로 유의미하다고 볼 수 있다.'''"
   ]
  },
  {
   "cell_type": "code",
   "execution_count": null,
   "id": "47717eec",
   "metadata": {},
   "outputs": [],
   "source": []
  }
 ],
 "metadata": {
  "kernelspec": {
   "display_name": "Python 3 (ipykernel)",
   "language": "python",
   "name": "python3"
  },
  "language_info": {
   "codemirror_mode": {
    "name": "ipython",
    "version": 3
   },
   "file_extension": ".py",
   "mimetype": "text/x-python",
   "name": "python",
   "nbconvert_exporter": "python",
   "pygments_lexer": "ipython3",
   "version": "3.11.5"
  }
 },
 "nbformat": 4,
 "nbformat_minor": 5
}
