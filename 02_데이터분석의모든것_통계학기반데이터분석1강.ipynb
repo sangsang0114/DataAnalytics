{
 "cells": [
  {
   "cell_type": "markdown",
   "id": "af834961",
   "metadata": {
    "id": "af834961"
   },
   "source": [
    "# 데이터분석의 모든 것_통계학기반 데이터분석 1강"
   ]
  },
  {
   "cell_type": "markdown",
   "id": "ce932143",
   "metadata": {
    "id": "ce932143"
   },
   "source": [
    "### [실습1] t-검정 | 일표본 검증"
   ]
  },
  {
   "cell_type": "code",
   "execution_count": 1,
   "id": "c20c7b13",
   "metadata": {
    "id": "c20c7b13"
   },
   "outputs": [],
   "source": [
    "import numpy as np\n",
    "from scipy import stats"
   ]
  },
  {
   "cell_type": "markdown",
   "id": "333fc970",
   "metadata": {
    "id": "333fc970"
   },
   "source": [
    "#### 일표본 t-test:\n",
    "모집단의 알려진 평균과 표본의 평균을 비교하는 검정입니다."
   ]
  },
  {
   "cell_type": "code",
   "execution_count": 24,
   "id": "3d3064ab",
   "metadata": {
    "id": "3d3064ab",
    "outputId": "a8030b8d-b23a-4387-cf99-f3921f344c0c"
   },
   "outputs": [
    {
     "name": "stdout",
     "output_type": "stream",
     "text": [
      "[ 52   2  76 149 203 263  77 200  75 332]\n",
      "<class 'numpy.ndarray'>\n"
     ]
    },
    {
     "data": {
      "text/plain": [
       "142.9"
      ]
     },
     "execution_count": 24,
     "metadata": {},
     "output_type": "execute_result"
    }
   ],
   "source": [
    "# 데이터 준비\n",
    "tree1_random = np.random.choice(400, size = 10, replace=True)\n",
    "               # 0~399 수 중에서 랜덤으로 10개 추출. replace= False <--복원추출\n",
    "print(tree1_random)\n",
    "tree1_random.mean()"
   ]
  },
  {
   "cell_type": "code",
   "execution_count": 10,
   "id": "aae7a18a",
   "metadata": {
    "executionInfo": {
     "elapsed": 2,
     "status": "ok",
     "timestamp": 1692540655437,
     "user": {
      "displayName": "Jungin Lee",
      "userId": "15449047399293082265"
     },
     "user_tz": -540
    },
    "id": "aae7a18a"
   },
   "outputs": [
    {
     "name": "stdout",
     "output_type": "stream",
     "text": [
      "TtestResult(statistic=-4.496969365053682, pvalue=0.0014954511696382488, df=9)\n"
     ]
    }
   ],
   "source": [
    "# 귀무가설: 평균이 400이다   (모집단의 평균400과 샘플의 평균의 차이가 0이다.)\n",
    "# 대립가설: 평균이 400이 아니다.\n",
    "\n",
    "# 일표본 t-test\n",
    "# print(stats.#TODO(tree1_random, 400, alternative='#TODO'))\n",
    "print(stats.ttest_1samp(tree1_random, 400)) #1표본일 때 사용"
   ]
  },
  {
   "cell_type": "code",
   "execution_count": 6,
   "id": "30219e3c",
   "metadata": {
    "id": "30219e3c"
   },
   "outputs": [],
   "source": [
    "# 해석\n",
    "# pvalue=0.0054  이므로  0.05보다 작으므로 귀무가설 기각. 대립가설 채택"
   ]
  },
  {
   "cell_type": "markdown",
   "id": "95678a4d",
   "metadata": {
    "id": "95678a4d"
   },
   "source": [
    "### [실습2] t-검정 | 독립 이표본 (independent) 검증"
   ]
  },
  {
   "cell_type": "markdown",
   "id": "0b59f956",
   "metadata": {
    "id": "0b59f956"
   },
   "source": [
    "두 집단이 서로 다른 모집단에서 추출된, 독립된 두 집단의 평균의 차이를 검정하는 것"
   ]
  },
  {
   "cell_type": "code",
   "execution_count": 11,
   "id": "7ae8044e",
   "metadata": {
    "id": "7ae8044e"
   },
   "outputs": [],
   "source": [
    "### 데이터 준비\n",
    "\"\"\"서울지역 12세 남학생들의 몸무게와 부산지역 12세 남학생 들의 몸무게를 측정했다. 다른 집단에서 각각 표본을 추출하였으므로 독립이표본이다.\n",
    "두 집단의 몸무게 차이가 있는지,그 차이가 유의미한 차이가 t-검정을 해보자.\n",
    "\"\"\"\n",
    "Seoul = [43.12, 40.94, 42.36, 50.64, 50, 43.49, 43.72, 40.19, 46.6, 43.75,\n",
    "         42.31, 44.7, 43.39, 33.08, 40.67, 49.5, 34.14, 40.61, 35.21, 37.91]\n",
    "Busan = [41.74, 42.35, 40.62, 28.64, 49.64, 40.94, 43.25, 40.3, 56.03,43.77,\n",
    "         51.3, 44.26, 42.6, 32.19, 39.72, 49.2, 33.03, 40.45, 36.03, 38.1]"
   ]
  },
  {
   "cell_type": "code",
   "execution_count": 12,
   "id": "1c588f14",
   "metadata": {
    "executionInfo": {
     "elapsed": 2,
     "status": "ok",
     "timestamp": 1692540666965,
     "user": {
      "displayName": "Jungin Lee",
      "userId": "15449047399293082265"
     },
     "user_tz": -540
    },
    "id": "1c588f14"
   },
   "outputs": [
    {
     "name": "stdout",
     "output_type": "stream",
     "text": [
      "TtestResult(statistic=0.3332423096643642, pvalue=0.7407831552749102, df=38.0)\n"
     ]
    }
   ],
   "source": [
    "# 귀무가설: 두 집단의 평균의 차이가 0이다.\n",
    "# 대립가설: 두 집단의 평균의 차이가 0이 아니다.\n",
    "\n",
    "### 독립 이표본 (independent) t-test\n",
    "tTestResult = stats.ttest_ind(Seoul, Busan)\n",
    "\n",
    "print(tTestResult)"
   ]
  },
  {
   "cell_type": "code",
   "execution_count": 13,
   "id": "3024209b",
   "metadata": {
    "id": "3024209b"
   },
   "outputs": [],
   "source": [
    "# 해석\n",
    "# 검정 결과 p-value는 0.7409이다.\n",
    "# p-value가 0.05보다 작지 않으므로 귀무가설은 채택하고, 대립가설이 기각된다.\n",
    "# 즉, 두 집단의 몸무게 차이는 유의미하지 않다."
   ]
  },
  {
   "cell_type": "markdown",
   "id": "1e3f3b4e",
   "metadata": {
    "id": "1e3f3b4e"
   },
   "source": [
    "### [실습3] t-검정 | 대응 이표본 검증     \n",
    "두 집단이 서로 같은 모집단에서 추출된 대응된 두 집단의 평균의 차이를 검정하는 것"
   ]
  },
  {
   "cell_type": "code",
   "execution_count": 18,
   "id": "3970287a",
   "metadata": {
    "id": "3970287a",
    "outputId": "dc5f38a3-1d0b-4358-f404-f29ee04f4bcc"
   },
   "outputs": [
    {
     "name": "stdout",
     "output_type": "stream",
     "text": [
      "[68.1217268183162, 56.94121793174962, 57.359141238682724, 54.63515688921915, 64.3270381466234, 48.492306515598585, 68.7240588210824, 56.19396549552449, 61.59519548028549, 58.75314812261295, 67.31053968522487, 49.69929645251173, 58.38791397993246, 58.07972822665792, 65.66884721167719, 54.500543663429845, 59.13785896224782, 55.61070791039314, 60.21106873357797, 62.914076068579114] \n",
      " [65.94098797171107, 57.67544499710449, 57.819839215935254, 54.63788246116392, 64.84275566541605, 47.34427263203588, 67.86790793112998, 54.58033393455883, 60.64923115285458, 58.78881770728494, 65.70631311881824, 48.80793606499072, 57.001583230054315, 56.517144665313666, 64.13055954741337, 53.94173367626836, 57.224973536332286, 55.315321289307555, 61.60772730564428, 63.218635763189475]\n"
     ]
    }
   ],
   "source": [
    "# 데이터 준비\n",
    "\n",
    "np.random.seed(1)   # to get consistent result\n",
    "\n",
    "# before treatment : mean 60, standard deviation 5\n",
    "beforeWeights = [60 + np.random.normal(0, 5) for _ in range(20)]\n",
    "# 다이어트약 임상 시험 대상자들의 몸무게\n",
    "\n",
    "# after treatment : mean 0.99-fold decrease, standard deviation 0.02\n",
    "afterWeights = [w * np.random.normal(0.99, 0.02) for w in beforeWeights]\n",
    "# 다이어트약 복용 후, 임상 시험 대상자들의 몸무게\n",
    "\n",
    "print( beforeWeights, '\\n' ,afterWeights )"
   ]
  },
  {
   "cell_type": "code",
   "execution_count": 19,
   "id": "e9682d1b",
   "metadata": {
    "executionInfo": {
     "elapsed": 3,
     "status": "ok",
     "timestamp": 1692540691762,
     "user": {
      "displayName": "Jungin Lee",
      "userId": "15449047399293082265"
     },
     "user_tz": -540
    },
    "id": "e9682d1b"
   },
   "outputs": [
    {
     "name": "stdout",
     "output_type": "stream",
     "text": [
      "TtestResult(statistic=2.9154993563693186, pvalue=0.008871163766572827, df=19)\n"
     ]
    }
   ],
   "source": [
    "# 귀무가설: beforeWeights와 afterWeights의 차이가 0이다.\n",
    "# 대립가설: beforeWeights와 afterWeights의 차이가 0이 아니다.\n",
    "\n",
    "#  대응 이표본  t-test  (default : 양측검정)\n",
    "tTestResult = stats.ttest_rel(beforeWeights, afterWeights)\n",
    "print(tTestResult)"
   ]
  },
  {
   "cell_type": "code",
   "execution_count": 20,
   "id": "248a0d19",
   "metadata": {
    "id": "248a0d19"
   },
   "outputs": [],
   "source": [
    "# 해석\n",
    "# p-value < 0.05에서 귀무 가설을 기각한다.\n",
    "# 즉, 다이어트 약 복용 전/후에 체중 차이는 유의미하다고 할 수 있다"
   ]
  },
  {
   "cell_type": "code",
   "execution_count": 26,
   "id": "1e4f389a",
   "metadata": {
    "executionInfo": {
     "elapsed": 1,
     "status": "ok",
     "timestamp": 1692540715179,
     "user": {
      "displayName": "Jungin Lee",
      "userId": "15449047399293082265"
     },
     "user_tz": -540
    },
    "id": "1e4f389a"
   },
   "outputs": [
    {
     "name": "stdout",
     "output_type": "stream",
     "text": [
      "TtestResult(statistic=2.9154993563693186, pvalue=0.004435581883286414, df=19)\n"
     ]
    }
   ],
   "source": [
    "## 참고\n",
    "## 이 예제는 단측검정이 더 적합하다.\n",
    "\n",
    "# 귀무가설: beforeWeights와 afterWeights의 차이가 0보다 크다\n",
    "# 대립가설: beforeWeights와 afterWeights의 차이가 0보다 작다.\n",
    "\n",
    "#  대응 이표본  t-test  (  단측검정)\n",
    "tTestResult = stats.ttest_rel(beforeWeights, afterWeights, alternative=\"greater\")\n",
    "print(tTestResult)"
   ]
  },
  {
   "cell_type": "code",
   "execution_count": null,
   "id": "7b930924",
   "metadata": {},
   "outputs": [],
   "source": []
  },
  {
   "cell_type": "markdown",
   "id": "36d40b95",
   "metadata": {
    "id": "36d40b95"
   },
   "source": [
    "### [실습4] F-검정 | 일원분산분석(One-way ANOVA)"
   ]
  },
  {
   "cell_type": "code",
   "execution_count": 22,
   "id": "d8c0accd",
   "metadata": {
    "id": "d8c0accd"
   },
   "outputs": [],
   "source": [
    "import pandas as pd\n",
    "import matplotlib.pyplot as plt\n",
    "import numpy as np"
   ]
  },
  {
   "cell_type": "code",
   "execution_count": 18,
   "id": "3de0a4ef",
   "metadata": {
    "id": "3de0a4ef"
   },
   "outputs": [],
   "source": [
    "# 분산분석에는 여러 종류가 있지만,\n",
    "# 여기서는 일원분산분석(One-way ANOVA)과 이원분산분석(Two-way ANOVA)를 알아보겠다.\n",
    "# 1) 일원분산분석(One-way ANOVA)\n",
    "#  종속변인은 1개이며, 독립변인의 집단도 1개인 경우다.\n",
    "#  한 가지 변수의 변화가 결과 변수에 미치는 영향을 보기 위해 사용된다.\n",
    "# 파이썬에서 One-way ANOVA 분석은 scipy.stats이나 statsmodel 라이브러리를 이용해서 할 수 있다.\n",
    "# statsmodel 라이브러리가 좀 더 많고 규격화된 정보를 제공한다.\n",
    "\n",
    "# 예제) 22명의 심장 우회 수술을 받은 환자를 다음의 3가지 그룹으로 나누었다.\n",
    "#  Group I  : 50% 아산화 질소(nitrous oxide)와 50%의 산소(oxygen) 혼합물을 24시간 동안 흡입한 환자\n",
    "#  Group II : 50% 아산화 질소와 50% 산소 혼합물을 수술 받는 동안만 흡입한 환자\n",
    "#  Group III : 아산화 질소 없이 오직 35-50%의 산소만 24시간 동안 처리한 환자\n",
    "#  그런 다음 적혈구의 엽산 수치를 24시간 이후에 측정하였다."
   ]
  },
  {
   "cell_type": "code",
   "execution_count": 19,
   "id": "53f77f38",
   "metadata": {
    "id": "53f77f38",
    "outputId": "52c525fd-d8b3-4ed7-8bec-ae9ad7302460"
   },
   "outputs": [
    {
     "name": "stdout",
     "output_type": "stream",
     "text": [
      "[array([243., 251., 275., 291., 347., 354., 380., 392.]), array([206., 210., 226., 249., 255., 273., 285., 295., 309.]), array([241., 258., 270., 293., 328.])]\n"
     ]
    },
    {
     "data": {
      "image/png": "[encoded data removed]",
      "text/plain": [
       "<Figure size 640x480 with 1 Axes>"
      ]
     },
     "metadata": {},
     "output_type": "display_data"
    }
   ],
   "source": [
    "#  데이터 준비\n",
    "import urllib  # url로 데이터 얻어오기\n",
    "url = 'https://raw.githubusercontent.com/thomas-haslwanter/statsintro_python/master/ipynb/Data/data_altman/altman_910.txt'\n",
    "data = np.genfromtxt(urllib.request.urlopen(url), delimiter=',')\n",
    "\n",
    "# Sort them into groups, according to column 1\n",
    "group1 = data[data[: ,1 ]==1 ,0]\n",
    "group2 = data[data[: ,1 ]==2 ,0]\n",
    "group3 = data[data[: ,1 ]==3 ,0]\n",
    "\n",
    "# matplotlib plotting\n",
    "plot_data = [group1, group2, group3]\n",
    "print(plot_data)\n",
    "ax = plt.boxplot(plot_data)\n",
    "plt.show()"
   ]
  },
  {
   "cell_type": "code",
   "execution_count": null,
   "id": "6c0a8ace",
   "metadata": {
    "id": "6c0a8ace"
   },
   "outputs": [],
   "source": [
    "# Boxplot에서 볼 수 있듯이, 평균값의 차이가 실제로 의미가 있는 차이인지,\n",
    "# 분산이 커서 그런 것인지 애매한 상황이다.\n",
    "# 이런 상황에서 분산분석을 통해 통계적 유의성을 알아 볼 수 있다.\n",
    "# Scipy.stats으로 일원분산분석 : 아래와 같은 코드로 분산분석을 할 수 있다.\n"
   ]
  },
  {
   "cell_type": "code",
   "execution_count": 21,
   "id": "086feb66",
   "metadata": {
    "executionInfo": {
     "elapsed": 4,
     "status": "ok",
     "timestamp": 1692540749698,
     "user": {
      "displayName": "Jungin Lee",
      "userId": "15449047399293082265"
     },
     "user_tz": -540
    },
    "id": "086feb66"
   },
   "outputs": [
    {
     "name": "stdout",
     "output_type": "stream",
     "text": [
      "Altman 910 데이터의 일원분산분석 결과 : F=3.7, p=0.04359\n",
      "귀무가설 기각. 대립가설 채택\n",
      "p-value 값이 유의수준 보다 작음으로 인해 세 그룹의 적혈구의 엽산 수치가 통계적으로 유의미하게 차이가 남.\n"
     ]
    }
   ],
   "source": [
    "# 일원 분산 분석\n",
    "\n",
    "# 귀무가설 : 세 그룹의 적혈구의 엽산 수치의 차이가 없다.\n",
    "# 대립가설 : 세 그룹의 적혈구의 엽산 수치의 차이가 있다.\n",
    "\n",
    "import scipy.stats as stats\n",
    "f_statistic, pval = stats.f_oneway(group1, group2, group3)\n",
    "print('Altman 910 데이터의 일원분산분석 결과 : F={0:.1f}, p={1:.5f}'.format(f_statistic, pval))  # F=3.7, p=0.04359\n",
    "\n",
    "# 해석\n",
    "if pval < 0.05:\n",
    "    print(\"귀무가설 기각. 대립가설 채택\")\n",
    "    print('p-value 값이 유의수준 보다 작음으로 인해 세 그룹의 적혈구의 엽산 수치가 통계적으로 유의미하게 차이가 남.')"
   ]
  },
  {
   "cell_type": "code",
   "execution_count": 7,
   "id": "861da349",
   "metadata": {
    "executionInfo": {
     "elapsed": 4,
     "status": "ok",
     "timestamp": 1692540771404,
     "user": {
      "displayName": "Jungin Lee",
      "userId": "15449047399293082265"
     },
     "user_tz": -540
    },
    "id": "861da349"
   },
   "outputs": [],
   "source": [
    "# 일원 분산 분석\n",
    "\n",
    "# 이번에는 pandas와 statsmodels 라이브러리를 사용해서 분산분석을 수행.\n",
    "# Statsmodel을 사용한 일원분산분석\n",
    "import statsmodels.formula.api as smf\n",
    "import statsmodels.api as sm\n",
    "\n",
    "df = pd.DataFrame(data, columns=['value', 'treatment'])\n",
    "\n",
    "# the \"C\" indicates categorical data\n",
    "model = smf.#TODO('value ~ C(treatment)', df).fit()\n",
    "print(sm.stats.#TODO(model))\n",
    "# statsmodels 을 사용하면 간편하게 결과를 얻을 수 있다."
   ]
  },
  {
   "cell_type": "code",
   "execution_count": null,
   "id": "8190872b",
   "metadata": {
    "id": "8190872b"
   },
   "outputs": [],
   "source": [
    "## 문제 :\n",
    "## iris.csv 파일을 읽고, 붓꽃의 품종(Name)별로 SepalWidth 가\n",
    "## 통계학적으로 유의하게 차이가 나는지 일분분산분석하세요."
   ]
  },
  {
   "cell_type": "code",
   "execution_count": 7,
   "id": "748c8491",
   "metadata": {
    "executionInfo": {
     "elapsed": 459,
     "status": "ok",
     "timestamp": 1692540809324,
     "user": {
      "displayName": "Jungin Lee",
      "userId": "15449047399293082265"
     },
     "user_tz": -540
    },
    "id": "748c8491"
   },
   "outputs": [],
   "source": [
    " # 답\n",
    "\n"
   ]
  },
  {
   "cell_type": "markdown",
   "id": "f87bd3c3",
   "metadata": {
    "id": "f87bd3c3"
   },
   "source": [
    "### [실습5] f-검정 | 이원분산분석(One-way ANOVA)"
   ]
  },
  {
   "cell_type": "code",
   "execution_count": null,
   "id": "78f6a1b4",
   "metadata": {
    "id": "78f6a1b4"
   },
   "outputs": [],
   "source": [
    "# 2) 이원분산분석(two-way ANOVA)  ---------------------------\n",
    "# 독립변인의 수가 두 개 이상일 때 집단 간 차이가 유의한지를 검증하는 데 사용한다.\n",
    "# 상호작용효과(Interaction effect), 한 변수의 변화가 결과에 미치는 영향이\n",
    "# 다른 변수의 수준에 따라 달라지는지를 확인하기 위해 사용된다.\n",
    "# 예제 데이터 설명\n",
    "# 태아의 머리 둘레 측정 데이터다. 4명의 관측자가 3명의 태아를 대상으로 측정함.\n",
    "# 이를 통해서 초음파로 태아의 머리 둘레측정 데이터가 재현성이 있는지를 조사함."
   ]
  },
  {
   "cell_type": "code",
   "execution_count": null,
   "id": "460e3744",
   "metadata": {
    "id": "460e3744",
    "outputId": "fed6b0ec-252b-44d8-d613-6ed21059d96a"
   },
   "outputs": [
    {
     "name": "stdout",
     "output_type": "stream",
     "text": [
      "    head_size  fetus  observer\n",
      "31       12.7    3.0       3.0\n",
      "32       12.5    3.0       3.0\n",
      "33       13.0    3.0       4.0\n",
      "34       12.9    3.0       4.0\n",
      "35       13.8    3.0       4.0\n"
     ]
    },
    {
     "data": {
      "image/png": "[encoded data removed]",
      "text/plain": [
       "<Figure size 640x480 with 1 Axes>"
      ]
     },
     "metadata": {},
     "output_type": "display_data"
    }
   ],
   "source": [
    "# 데이터 준비\n",
    "\n",
    "url_base = 'https://raw.githubusercontent.com/thomas-haslwanter/statsintro_python/master/ipynb/Data/data_altman/'\n",
    "url = url_base + 'altman_12_6.txt'\n",
    "data = np.genfromtxt(urllib.request.urlopen(url), delimiter=',')\n",
    "\n",
    "# Bring them in dataframe-format\n",
    "df = pd.DataFrame(data, columns=['head_size', 'fetus', 'observer'])\n",
    "print(df.tail())\n",
    "\n",
    "#     head_size  fetus  observer\n",
    "# 31       12.7    3.0       3.0\n",
    "# 32       12.5    3.0       3.0\n",
    "# 33       13.0    3.0       4.0\n",
    "# 34       12.9    3.0       4.0\n",
    "# 35       13.8    3.0       4.0\n",
    "\n",
    "# 태아별 머리 둘레 plot 만들기\n",
    "df.boxplot(column = 'head_size', by='fetus' , grid = False)\n",
    "plt.show()"
   ]
  },
  {
   "cell_type": "code",
   "execution_count": 8,
   "id": "7c46ee7c",
   "metadata": {
    "executionInfo": {
     "elapsed": 3,
     "status": "ok",
     "timestamp": 1692540838455,
     "user": {
      "displayName": "Jungin Lee",
      "userId": "15449047399293082265"
     },
     "user_tz": -540
    },
    "id": "7c46ee7c"
   },
   "outputs": [],
   "source": [
    "# 태아(fetus) 3명의 머리둘레는 차이가 있어 보이나\n",
    "# 이것이 관측자와 상호작용이 있는 것인지 분석을 통해 알아 보겠다.\n",
    "# 분산분석으로 상관관계 확인: statmodels 라이브러리를 사용해 계산\n",
    "\n",
    "#### 일원분산분석 C(fetus)\n",
    "# 귀무가설 : 태아별  머리둘레의 크기는 차이가 없다.\n",
    "# 대립가설 : 태아별  머리둘레의 크기는 차이가 있다.\n",
    "\n",
    "#### 일원분산분석 C(observer)\n",
    "# 귀무가설 : 관찰자별 태아측정 머리둘레의 크기는 차이가 없다.\n",
    "# 대립가설 :  관찰자별 태아측정  머리둘레의 크기는 차이가 있다.\n",
    "\n",
    "#### 이원분산분석 C(fetus):C(observer)\n",
    "# 귀무가설 : 태아별 관측자별 그룹의 태아 머리둘레의 크기는 차이가 없다.\n",
    "# 대립가설 : 태아별 관측자별 그룹의 태아 머리둘레의 크기는 차이가 있다.\n",
    "\n",
    "formula = 'head_size ~ C(fetus) + C(observer) + C(fetus):C(observer)'\n",
    "lm = smf.#TODO(formula, df).fit()  # 선형회귀를 이용\n",
    "print(sm.stats.#TODO(lm))"
   ]
  },
  {
   "cell_type": "code",
   "execution_count": null,
   "id": "35847a0b",
   "metadata": {
    "id": "35847a0b"
   },
   "outputs": [],
   "source": [
    "# 해설\n",
    "\n",
    "#### 일원분산분석      C(fetus) p value=.051039e-27   귀무가설 기각\n",
    "# 귀무가설 : 태아별  머리둘레의 크기는 차이가 없다.\n",
    "# 대립가설 : 태아별  머리둘레의 크기는 차이가 있다.\n",
    "\n",
    "#### 일원분산분석   C(observer) p value=.6.497055e-03  귀무가설 기각\n",
    "# 귀무가설 : 관찰자별 태아측정 머리둘레의 크기는 차이가 없다.\n",
    "# 대립가설 :  관찰자별 태아측정  머리둘레의 크기는 차이가 있다.\n",
    "\n",
    "####이원분산분석   C(fetus):C(observer) p value= 3.295509e-01  귀무가설 채택\n",
    "# 귀무가설 : 태아별 관측자별 그룹의 태아 머리둘레의 크기는 차이가 없다.\n",
    "# 대립가설 : 태아별 관측자별 그룹의 태아 머리둘레의 크기는 차이가 있다\n",
    "\n",
    "        # p-value 가 0.05 보다 크다. 따라서 귀무가설을 기각할 수 없고,\n",
    "        # 측정자와 태아의 머리 둘레값에는 연관성이 없다고 할 수 있다.\n",
    "        # 측정하는 사람이 달라도 머리 둘레값은 일정하다는 얘기.\n",
    "\n",
    "# 해설 : 초음파로 측정하는 태아의 머리 둘레값은 믿을 수 있다고 판단할 수 있다."
   ]
  }
 ],
 "metadata": {
  "colab": {
   "provenance": []
  },
  "kernelspec": {
   "display_name": "Python 3 (ipykernel)",
   "language": "python",
   "name": "python3"
  },
  "language_info": {
   "codemirror_mode": {
    "name": "ipython",
    "version": 3
   },
   "file_extension": ".py",
   "mimetype": "text/x-python",
   "name": "python",
   "nbconvert_exporter": "python",
   "pygments_lexer": "ipython3",
   "version": "3.11.5"
  }
 },
 "nbformat": 4,
 "nbformat_minor": 5
}
